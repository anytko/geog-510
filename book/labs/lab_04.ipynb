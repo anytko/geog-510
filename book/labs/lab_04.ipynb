{
 "cells": [
  {
   "cell_type": "markdown",
   "metadata": {},
   "source": [
    "# Lab 4\n",
    "\n",
    "[![Open In Colab](https://colab.research.google.com/assets/colab-badge.svg)](https://colab.research.google.com/github/anytko/geog-510/blob/mine/book/labs/lab_04.ipynb)"
   ]
  },
  {
   "cell_type": "markdown",
   "metadata": {},
   "source": [
    "## Exercise 1: Variable Assignment and Basic Operations\n",
    "\n",
    "Create variables to store the following geospatial data:\n",
    "\n",
    "- The latitude and longitude of New York City: 40.7128, -74.0060.\n",
    "- The population of New York City: 8,336,817.\n",
    "- The area of New York City in square kilometers: 783.8.\n",
    "\n",
    "Perform the following tasks:\n",
    "\n",
    "1. Calculate and print the population density of New York City (population per square kilometer).\n",
    "2. Print the coordinates in the format \"Latitude: [latitude], Longitude: [longitude]\"."
   ]
  },
  {
   "cell_type": "code",
   "execution_count": 1,
   "metadata": {},
   "outputs": [
    {
     "name": "stdout",
     "output_type": "stream",
     "text": [
      "New York City has a population density of 10636.41 people per square km.\n",
      "Latitude: 40.7128, Longitude: -74.006\n"
     ]
    }
   ],
   "source": [
    "new_york_lat = 40.7128\n",
    "new_york_lon = -74.0060\n",
    "new_york_pop = 8_336_817\n",
    "new_york_area = 783.8\n",
    "\n",
    "new_york_pop_density = new_york_pop / new_york_area\n",
    "print(f\"New York City has a population density of {new_york_pop_density:.2f} people per square km.\")\n",
    "print(f\"Latitude: {new_york_lat}, Longitude: {new_york_lon}\")"
   ]
  },
  {
   "cell_type": "markdown",
   "metadata": {},
   "source": [
    "## Exercise 2: Working with Strings\n",
    "\n",
    "Create a string variable to store the name of a city, such as \"San Francisco\". Perform the following operations:\n",
    "\n",
    "1. Convert the string to lowercase and print the result.\n",
    "2. Convert the string to uppercase and print the result.\n",
    "3. Replace \"San\" with \"Los\" in the city name and print the new string."
   ]
  },
  {
   "cell_type": "code",
   "execution_count": 2,
   "metadata": {},
   "outputs": [
    {
     "name": "stdout",
     "output_type": "stream",
     "text": [
      "san francisco\n",
      "SAN FRANCISCO\n",
      "Los Francisco\n"
     ]
    }
   ],
   "source": [
    "city = \"San Francisco\"\n",
    "city_lower = city.lower()\n",
    "print(city_lower)\n",
    "\n",
    "city_upper = city.upper()\n",
    "print(city_upper)\n",
    "\n",
    "city_new = city.replace(\"San\", \"Los\")\n",
    "print(city_new)"
   ]
  },
  {
   "cell_type": "markdown",
   "metadata": {},
   "source": [
    "## Exercise 3: Using Lists\n",
    "\n",
    "Create a list of tuples, where each tuple contains the name of a city and its corresponding latitude and longitude:\n",
    "\n",
    "- New York City: (40.7128, -74.0060)\n",
    "- Los Angeles: (34.0522, -118.2437)\n",
    "- Chicago: (41.8781, -87.6298)\n",
    "\n",
    "Perform the following tasks:\n",
    "\n",
    "1. Add a new city (e.g., Miami: (25.7617, -80.1918)) to the list.\n",
    "2. Print the entire list of cities.\n",
    "3. Slice the list to print only the first two cities."
   ]
  },
  {
   "cell_type": "code",
   "execution_count": 3,
   "metadata": {},
   "outputs": [
    {
     "name": "stdout",
     "output_type": "stream",
     "text": [
      "[('New York City:', 40.7128, -74.006), ('Los Angeles:', 34.0522, -118.2437), ('Chicago:', 41.8781, -87.6298), ('Miami:', 25.7617, -80.1918)]\n",
      "[('New York City:', 40.7128, -74.006), ('Los Angeles:', 34.0522, -118.2437)]\n"
     ]
    }
   ],
   "source": [
    "city_list = [(\"New York City:\", 40.7128, -74.0060), (\"Los Angeles:\", 34.0522, -118.2437), (\"Chicago:\", 41.8781, -87.6298)]\n",
    "\n",
    "city_list.append((\"Miami:\", 25.7617, -80.1918))\n",
    "\n",
    "print(city_list)\n",
    "\n",
    "print(city_list[:2])"
   ]
  },
  {
   "cell_type": "markdown",
   "metadata": {},
   "source": [
    "## Exercise 4: Using Tuples\n",
    "\n",
    "Create a tuple to store the coordinates (latitude, longitude) of the Eiffel Tower: (48.8584, 2.2945). Perform the following tasks:\n",
    "\n",
    "1. Access and print the latitude and longitude values from the tuple.\n",
    "2. Try to change the latitude value to 48.8585. What happens? Explain why."
   ]
  },
  {
   "cell_type": "code",
   "execution_count": 4,
   "metadata": {},
   "outputs": [
    {
     "name": "stdout",
     "output_type": "stream",
     "text": [
      "Eiffel Tower Coordinates: (48.8584, 2.2945)\n"
     ]
    },
    {
     "ename": "TypeError",
     "evalue": "'tuple' object does not support item assignment",
     "output_type": "error",
     "traceback": [
      "\u001b[0;31m---------------------------------------------------------------------------\u001b[0m",
      "\u001b[0;31mTypeError\u001b[0m                                 Traceback (most recent call last)",
      "Cell \u001b[0;32mIn[4], line 4\u001b[0m\n\u001b[1;32m      1\u001b[0m eiffel_coord \u001b[38;5;241m=\u001b[39m (\u001b[38;5;241m48.8584\u001b[39m, \u001b[38;5;241m2.2945\u001b[39m)\n\u001b[1;32m      2\u001b[0m \u001b[38;5;28mprint\u001b[39m(\u001b[38;5;124mf\u001b[39m\u001b[38;5;124m\"\u001b[39m\u001b[38;5;124mEiffel Tower Coordinates: \u001b[39m\u001b[38;5;132;01m{\u001b[39;00meiffel_coord\u001b[38;5;132;01m}\u001b[39;00m\u001b[38;5;124m\"\u001b[39m)\n\u001b[0;32m----> 4\u001b[0m \u001b[43meiffel_coord\u001b[49m\u001b[43m[\u001b[49m\u001b[38;5;241;43m0\u001b[39;49m\u001b[43m]\u001b[49m \u001b[38;5;241m=\u001b[39m \u001b[38;5;241m48.8585\u001b[39m\n\u001b[1;32m      6\u001b[0m \u001b[38;5;66;03m# When trying to change the latitude value to 48.8585, it will raise an error because tuples are a data type which are immutable.\u001b[39;00m\n\u001b[1;32m      7\u001b[0m \u001b[38;5;66;03m# If you want to change a value in a tuple to have to create a new tuple with the updated value.\u001b[39;00m\n",
      "\u001b[0;31mTypeError\u001b[0m: 'tuple' object does not support item assignment"
     ]
    }
   ],
   "source": [
    "eiffel_coord = (48.8584, 2.2945)\n",
    "print(f\"Eiffel Tower Coordinates: {eiffel_coord}\")\n",
    "\n",
    "eiffel_coord[0] = 48.8585\n",
    "\n",
    "# When trying to change the latitude value to 48.8585, it will raise an error because tuples are a data type which are immutable.\n",
    "# If you want to change a value in a tuple to have to create a new tuple with the updated value."
   ]
  },
  {
   "cell_type": "markdown",
   "metadata": {},
   "source": [
    "## Exercise 5: Working with Sets\n",
    "\n",
    "Create a set of countries you have visited, such as {\"USA\", \"France\", \"Germany\"}. Perform the following tasks:\n",
    "\n",
    "1. Add a new country to the set.\n",
    "2. Try to add the same country again. What happens?\n",
    "3. Print the updated set."
   ]
  },
  {
   "cell_type": "code",
   "execution_count": 5,
   "metadata": {},
   "outputs": [
    {
     "name": "stdout",
     "output_type": "stream",
     "text": [
      "{'Italy', 'France', 'Scotland', 'UK', 'Sweden', 'Norway', 'Mexico', 'Ireland', 'USA', 'Canada', 'Germany', 'Switzerland'}\n",
      "{'Italy', 'France', 'Scotland', 'UK', 'Sweden', 'Norway', 'Mexico', 'Ireland', 'USA', 'Canada', 'Germany', 'Switzerland'}\n"
     ]
    }
   ],
   "source": [
    "countries_visited = {\"USA\", \"Canada\", \"Mexico\", \"Germany\", \"France\", \"Switzerland\", \"UK\", \"Scotland\", \"Italy\", \"Norway\", \"Sweden\", \"Ireland\"}\n",
    "print(countries_visited)\n",
    "countries_visited.add(\"Canada\")\n",
    "print(countries_visited)\n",
    "\n",
    "# The set will not add the same country again because every value in a set must be unique."
   ]
  },
  {
   "cell_type": "markdown",
   "metadata": {},
   "source": [
    "## Exercise 6: Working with Dictionaries\n",
    "\n",
    "Create a dictionary to store information about a specific geospatial feature, such as a river:\n",
    "\n",
    "- Name: \"Amazon River\"\n",
    "- Length: 6400 km\n",
    "- Countries: [\"Brazil\", \"Peru\", \"Colombia\"]\n",
    "\n",
    "Perform the following tasks:\n",
    "\n",
    "1. Add a new key-value pair to the dictionary to store the river's average discharge (e.g., 209,000 m³/s).\n",
    "2. Update the length of the river to 6992 km.\n",
    "3. Print the dictionary."
   ]
  },
  {
   "cell_type": "code",
   "execution_count": 6,
   "metadata": {},
   "outputs": [
    {
     "name": "stdout",
     "output_type": "stream",
     "text": [
      "{'Name': 'Amazon River', 'Length': 6400, 'Countries': ['Brazil', 'Peru', 'Colombia']}\n",
      "{'Name': 'Amazon River', 'Length': 6992, 'Countries': ['Brazil', 'Peru', 'Colombia'], 'Discharge': 209000}\n"
     ]
    }
   ],
   "source": [
    "river_dict = {\"Name\": \"Amazon River\", \"Length\": 6400, \"Countries\": [\"Brazil\", \"Peru\", \"Colombia\"]}\n",
    "print(river_dict)\n",
    "\n",
    "river_dict.update({\"Discharge\": 209000, \"Length\": 6992})\n",
    "\n",
    "print(river_dict)"
   ]
  },
  {
   "cell_type": "markdown",
   "metadata": {},
   "source": [
    "## Exercise 7: Nested Data Structures\n",
    "\n",
    "Create a dictionary to represent a city that contains the city's name, population, and coordinates (latitude, longitude):\n",
    "\n",
    "- Name: \"Tokyo\"\n",
    "- Population: 13,515,271\n",
    "- Coordinates: (35.6895, 139.6917)\n",
    "\n",
    "Perform the following tasks:\n",
    "\n",
    "1. Access and print the population of the city.\n",
    "2. Access and print the city's latitude.\n",
    "3. Update the population to 14,000,000 and print the updated dictionary."
   ]
  },
  {
   "cell_type": "code",
   "execution_count": 7,
   "metadata": {},
   "outputs": [
    {
     "name": "stdout",
     "output_type": "stream",
     "text": [
      "The population of Tokyo is 13515271\n",
      "The latitude of Tokyo is 35.6895\n",
      "{'Name': 'Tokyo', 'Population': 14000000, 'Coordinates': (35.6895, 139.6917)}\n"
     ]
    }
   ],
   "source": [
    "city_dict = {\"Name\": \"Tokyo\", \"Population\": 13515271, \"Coordinates\": (35.6895, 139.6917)}\n",
    "\n",
    "print(f\"The population of {city_dict['Name']} is {city_dict['Population']}\")\n",
    "print(f\"The latitude of {city_dict['Name']} is {city_dict['Coordinates'][0]}\")\n",
    "\n",
    "city_dict.update({\"Population\": 14000000})\n",
    "print(city_dict)"
   ]
  },
  {
   "cell_type": "markdown",
   "metadata": {},
   "source": [
    "## Exercise 8: List Operations\n",
    "\n",
    "Given the list of cities from Exercise 3, perform the following operations:\n",
    "\n",
    "1. Sort the list of cities alphabetically by name.\n",
    "2. Create a new list that contains only the city names.\n",
    "3. Remove the last city from the original list and print the updated list."
   ]
  },
  {
   "cell_type": "code",
   "execution_count": 8,
   "metadata": {},
   "outputs": [
    {
     "name": "stdout",
     "output_type": "stream",
     "text": [
      "['Chicago:', 'Los Angeles:', 'Miami:', 'New York City:']\n",
      "[('Chicago:', 41.8781, -87.6298), ('Los Angeles:', 34.0522, -118.2437), ('Miami:', 25.7617, -80.1918)]\n"
     ]
    }
   ],
   "source": [
    "city_list.sort(key=lambda city: city[0])\n",
    "\n",
    "city_names = [city[0] for city in city_list]\n",
    "print(city_names)\n",
    "\n",
    "city_list.pop(3)\n",
    "print(city_list)"
   ]
  },
  {
   "cell_type": "markdown",
   "metadata": {},
   "source": [
    "## Exercise 9: Dictionary Operations\n",
    "\n",
    "Using the dictionary from Exercise 6, perform the following tasks:\n",
    "\n",
    "1. Check if the key \"Length\" exists in the dictionary.\n",
    "2. Print all the keys in the dictionary.\n",
    "3. Print all the values in the dictionary."
   ]
  },
  {
   "cell_type": "code",
   "execution_count": 9,
   "metadata": {},
   "outputs": [
    {
     "name": "stdout",
     "output_type": "stream",
     "text": [
      "The key 'Length' exists in the dictionary.\n",
      "dict_keys(['Name', 'Length', 'Countries', 'Discharge'])\n",
      "dict_values(['Amazon River', 6992, ['Brazil', 'Peru', 'Colombia'], 209000])\n"
     ]
    }
   ],
   "source": [
    "if \"Length\" in river_dict:\n",
    "    print(\"The key 'Length' exists in the dictionary.\")\n",
    "else:\n",
    "    print(\"The key 'Length' does not exist in the dictionary.\")\n",
    "\n",
    "print(river_dict.keys())\n",
    "print(river_dict.values())"
   ]
  },
  {
   "cell_type": "markdown",
   "metadata": {},
   "source": [
    "## Exercise 10: Practical Application\n",
    "\n",
    "Imagine you have a list of tuples, each representing a location with its name, latitude, and longitude:"
   ]
  },
  {
   "cell_type": "code",
   "execution_count": 10,
   "metadata": {},
   "outputs": [],
   "source": [
    "locations = [\n",
    "    (\"Mount Everest\", 27.9881, 86.9250),\n",
    "    (\"K2\", 35.8808, 76.5155),\n",
    "    (\"Kangchenjunga\", 27.7025, 88.1475),\n",
    "]"
   ]
  },
  {
   "cell_type": "markdown",
   "metadata": {},
   "source": [
    "Perform the following tasks:\n",
    "\n",
    "1. Create a new list that contains only the names of the locations.\n",
    "2. Create a dictionary where the keys are location names and the values are tuples of their coordinates.\n",
    "3. Print the latitude of \"K2\" using the dictionary."
   ]
  },
  {
   "cell_type": "code",
   "execution_count": 11,
   "metadata": {},
   "outputs": [
    {
     "name": "stdout",
     "output_type": "stream",
     "text": [
      "The latitude of K2 is 35.8808\n"
     ]
    }
   ],
   "source": [
    "location_dict = {location[0]: {\"Latitude\": location[1], \"Longitude\": location[2]} for location in locations}\n",
    "\n",
    "print(f\"The latitude of K2 is {location_dict['K2']['Latitude']}\")"
   ]
  },
  {
   "cell_type": "markdown",
   "metadata": {},
   "source": [
    "## Exercise 11: Manipulating Geographic Location Strings\n",
    "\n",
    "- Create a string that represents the name of a geographic feature (e.g., `\"Amazon River\"`).\n",
    "- Convert the string to lowercase and then to uppercase.\n",
    "- Concatenate the string with the name of the country (e.g., `\"Brazil\"`) to create a full location name.\n",
    "- Repeat the string three times, separating each repetition with a dash (`-`)."
   ]
  },
  {
   "cell_type": "code",
   "execution_count": 12,
   "metadata": {},
   "outputs": [
    {
     "name": "stdout",
     "output_type": "stream",
     "text": [
      "Nile River, Egypt - Nile River, Egypt - Nile River, Egypt\n"
     ]
    }
   ],
   "source": [
    "long_river = \"Nile River\"\n",
    "long_river.lower()\n",
    "long_river.upper()\n",
    "full_location = long_river + \", Egypt\"\n",
    "\n",
    "repeat = ' - '.join([full_location] * 3)\n",
    "print(repeat)"
   ]
  },
  {
   "cell_type": "markdown",
   "metadata": {},
   "source": [
    "## Exercise 12: Extracting and Formatting Coordinates\n",
    "\n",
    "- Given a string with the format `\"latitude, longitude\"` (e.g., `\"40.7128N, 74.0060W\"`), extract the numeric values of latitude and longitude.\n",
    "- Convert these values to floats and remove the directional indicators (`N`, `S`, `E`, `W`).\n",
    "- Format the coordinates into a `POINT` WKT string (e.g., `\"POINT(-74.0060 40.7128)\"`)."
   ]
  },
  {
   "cell_type": "code",
   "execution_count": 13,
   "metadata": {},
   "outputs": [
    {
     "name": "stdout",
     "output_type": "stream",
     "text": [
      "POINT(-74.006 40.7128)\n"
     ]
    }
   ],
   "source": [
    "coords = \"40.7128N, 74.0060W\"\n",
    "latitude_str, longitude_str = coords.split(\", \")\n",
    "latitude = float(latitude_str[:-1])  \n",
    "longitude = float(longitude_str[:-1]) \n",
    "if 'S' in latitude_str:\n",
    "    latitude = -latitude\n",
    "if 'W' in longitude_str:\n",
    "    longitude = -longitude\n",
    "wkt_point = f\"POINT({longitude} {latitude})\"\n",
    "print(wkt_point)\n",
    "\n"
   ]
  },
  {
   "cell_type": "markdown",
   "metadata": {},
   "source": [
    "## Exercise 13: Building Dynamic SQL Queries\n",
    "\n",
    "- Given a table name and a condition, dynamically build an SQL query string.\n",
    "- Example: If `table_name = \"cities\"` and `condition = \"population > 1000000\"`, the query should be `\"SELECT * FROM cities WHERE population > 1000000;\"`.\n",
    "- Add additional conditions dynamically, like `AND` clauses."
   ]
  },
  {
   "cell_type": "code",
   "execution_count": 14,
   "metadata": {},
   "outputs": [
    {
     "name": "stdout",
     "output_type": "stream",
     "text": [
      "SELECT * FROM rivers WHERE ['length > 1000', 'discharge > 5000'];\n"
     ]
    }
   ],
   "source": [
    "# Given the following SQL table named 'rivers':\n",
    "table_name = \"rivers\"\n",
    "condition = [\"length > 1000\", \"discharge > 5000\"]\n",
    "sql_query = f\"SELECT * FROM {table_name} WHERE {condition};\"\n",
    "print(sql_query)"
   ]
  },
  {
   "cell_type": "markdown",
   "metadata": {},
   "source": [
    "## Exercise 14: String Normalization and Cleaning\n",
    "\n",
    "- Given a list of city names with inconsistent formatting (e.g., `[\" new york \", \"Los ANGELES\", \"   CHICAGO\"]`), normalize the names by:\n",
    "  - Stripping any leading or trailing whitespace.\n",
    "  - Converting them to title case (e.g., `\"New York\"`, `\"Los Angeles\"`, `\"Chicago\"`).\n",
    "- Ensure that the output is a clean list of city names."
   ]
  },
  {
   "cell_type": "code",
   "execution_count": 15,
   "metadata": {},
   "outputs": [
    {
     "name": "stdout",
     "output_type": "stream",
     "text": [
      "['New York', 'Los Angeles', 'Chicago']\n"
     ]
    }
   ],
   "source": [
    "city_names = [\" new york \", \"Los ANGELES\", \" CHICAGO\"]\n",
    "cleaned_city_names = [city.strip().title() for city in city_names]\n",
    "print(cleaned_city_names)"
   ]
  },
  {
   "cell_type": "markdown",
   "metadata": {},
   "source": [
    "## Exercise 15: Parsing and Extracting Address Information\n",
    "\n",
    "- Given a string in the format `\"Street, City, Country\"` (e.g., `\"123 Main St, Springfield, USA\"`), write a function that parses the string into a dictionary with keys `street`, `city`, and `country`.\n",
    "- The function should return a dictionary like `{\"street\": \"123 Main St\", \"city\": \"Springfield\", \"country\": \"USA\"}`."
   ]
  },
  {
   "cell_type": "code",
   "execution_count": 16,
   "metadata": {},
   "outputs": [
    {
     "name": "stdout",
     "output_type": "stream",
     "text": [
      "{'Street': '123 East St.', 'City': 'Phoenix', 'Country': 'USA'}\n"
     ]
    }
   ],
   "source": [
    "address = \"123 East St., Phoenix, USA\"\n",
    "address_parts = address.split(\", \")\n",
    "address_dict = {\n",
    "    \"Street\": address_parts[0],\n",
    "    \"City\": address_parts[1],\n",
    "    \"Country\": address_parts[2],\n",
    "}\n",
    "print(address_dict)"
   ]
  },
  {
   "cell_type": "markdown",
   "metadata": {},
   "source": [
    "## Exercise 16: Using For Loops to Process Coordinate Lists\n",
    "\n",
    "- Create a list of tuples representing coordinates (latitude, longitude).\n",
    "- Write a `for` loop that prints each coordinate and indicates whether it is in the Northern or Southern Hemisphere based on the latitude."
   ]
  },
  {
   "cell_type": "code",
   "execution_count": 17,
   "metadata": {},
   "outputs": [
    {
     "name": "stdout",
     "output_type": "stream",
     "text": [
      "Latitude: -40.7128, Longitude: -74.006 → Southern Hemisphere\n",
      "Latitude: 34.0522, Longitude: 118.2437 → Northern Hemisphere\n",
      "Latitude: 41.8781, Longitude: -87.6298 → Northern Hemisphere\n"
     ]
    }
   ],
   "source": [
    "coords = ((-40.7128, -74.0060), (34.0522, 118.2437), (41.8781, -87.6298))\n",
    "\n",
    "for lat, lon in coords:\n",
    "    if lat > 0:\n",
    "        hemisphere = \"Northern\"\n",
    "    else:\n",
    "        hemisphere = \"Southern\"\n",
    "\n",
    "    print(f\"Latitude: {lat}, Longitude: {lon} → {hemisphere} Hemisphere\")\n"
   ]
  },
  {
   "cell_type": "markdown",
   "metadata": {},
   "source": [
    "## Exercise 17: While Loops for Iterative Processing\n",
    "\n",
    "- Create a list of coordinates (latitude, longitude).\n",
    "- Write a `while` loop that continues to print each coordinate until it encounters a coordinate with a negative latitude.\n",
    "- Stop the loop once this condition is met."
   ]
  },
  {
   "cell_type": "code",
   "execution_count": 18,
   "metadata": {},
   "outputs": [
    {
     "name": "stdout",
     "output_type": "stream",
     "text": [
      "[[40.7128, -74.006], [34.0522, 118.2437]]\n"
     ]
    }
   ],
   "source": [
    "coords = [[40.7128, -74.0060], [34.0522, 118.2437], [-41.8781, -87.6298]]\n",
    "\n",
    "positive_coords = []\n",
    "\n",
    "while len(coords) > 0:\n",
    "    lat, lon = coords.pop(0) \n",
    "    if lat > 0:\n",
    "        positive_coords.append([lat, lon])\n",
    "    else:\n",
    "        break  \n",
    "\n",
    "print(positive_coords)\n",
    "\n"
   ]
  },
  {
   "cell_type": "markdown",
   "metadata": {},
   "source": [
    "## Exercise 18: Conditional Logic in Loops\n",
    "\n",
    "- Create a list of coordinates and use a `for` loop to iterate over them.\n",
    "- Use an `if-elif-else` statement inside the loop to classify each coordinate based on its longitude:\n",
    "  - Print `\"Eastern Hemisphere\"` if the longitude is greater than 0.\n",
    "  - Print `\"Western Hemisphere\"` if the longitude is less than 0."
   ]
  },
  {
   "cell_type": "code",
   "execution_count": 19,
   "metadata": {},
   "outputs": [
    {
     "name": "stdout",
     "output_type": "stream",
     "text": [
      "Western Hemisphere\n",
      "Eastern Hemisphere\n",
      "Western Hemisphere\n",
      "Western Hemisphere\n",
      "Eastern Hemisphere\n"
     ]
    }
   ],
   "source": [
    "coords = [[40.7128, -74.0060], [34.0522, 118.2437], [-41.8781, -87.6298], [51.5074, -0.1278], [35.6895, 139.6917]]\n",
    "\n",
    "for coord in coords:\n",
    "    lat, lon = coord\n",
    "    if lon > 0:\n",
    "        print(\"Eastern Hemisphere\")\n",
    "    elif lon < 0:\n",
    "        print(\"Western Hemisphere\")\n",
    "    elif lon == 0:\n",
    "        print(\"Prime Meridian\")\n",
    "    else:\n",
    "        print(\"Invalid Longitude\")\n",
    "\n",
    "    \n",
    "    \n",
    "    "
   ]
  },
  {
   "cell_type": "markdown",
   "metadata": {},
   "source": [
    "## Exercise 19: Filtering Data with Combined Loops and Conditionals\n",
    "\n",
    "- Given a list of coordinates, filter out and store only those located in the Southern Hemisphere (latitude < 0).\n",
    "- Count the number of coordinates that meet this condition and print the result."
   ]
  },
  {
   "cell_type": "code",
   "execution_count": 20,
   "metadata": {},
   "outputs": [
    {
     "name": "stdout",
     "output_type": "stream",
     "text": [
      "Number of coordinates in the Southern Hemisphere: 2\n",
      "Coordinates in the Southern Hemisphere: [[-40.7128, -74.006], [-41.8781, -87.6298]]\n"
     ]
    }
   ],
   "source": [
    "coords = [[-40.7128, -74.0060], [34.0522, 118.2437], [-41.8781, -87.6298], [51.5074, -0.1278], [35.6895, 139.6917]]\n",
    "\n",
    "south_coords = []\n",
    "\n",
    "for coord in coords:\n",
    "    lat, lon = coord\n",
    "    if lat < 0:\n",
    "        south_coords.append(coord)\n",
    "    else:\n",
    "        continue\n",
    "\n",
    "print(f\"Number of coordinates in the Southern Hemisphere: {len(south_coords)}\")\n",
    "print(f\"Coordinates in the Southern Hemisphere: {south_coords}\")"
   ]
  },
  {
   "cell_type": "markdown",
   "metadata": {},
   "source": [
    "## Exercise 20: Generating and Analyzing Random Coordinates\n",
    "\n",
    "- Write a program that generates random coordinates (latitude between [-90, 90] degrees and longitude between [-180, 180] degrees).\n",
    "- Use a `while` loop to keep generating coordinates until a pair with both latitude and longitude greater than 50 is generated.\n",
    "- Print each generated coordinate and the final coordinate that meets the condition."
   ]
  },
  {
   "cell_type": "code",
   "execution_count": 22,
   "metadata": {},
   "outputs": [
    {
     "name": "stdout",
     "output_type": "stream",
     "text": [
      "Generated: (-23.2002, -93.1441)\n",
      "Generated: (9.1324, 69.5001)\n",
      "Generated: (36.7524, -169.4424)\n",
      "Generated: (75.1619, 19.7281)\n",
      "Generated: (-32.2717, 5.5424)\n",
      "Generated: (-46.8047, -62.7809)\n",
      "Generated: (-80.0853, 82.0276)\n",
      "Generated: (-65.8640, -113.6797)\n",
      "Generated: (76.0419, -103.5818)\n",
      "Generated: (49.3310, -88.8313)\n",
      "Generated: (-87.2825, -51.2633)\n",
      "Generated: (-76.6734, -7.7351)\n",
      "Generated: (-89.4498, -32.8644)\n",
      "Generated: (83.4199, 137.1832)\n",
      "Final coordinate meeting condition: (83.4199, 137.1832)\n"
     ]
    }
   ],
   "source": [
    "import random as rand\n",
    "\n",
    "while True:\n",
    "    latitude = rand.uniform(-90, 90)  \n",
    "    longitude = rand.uniform(-180, 180)  \n",
    "    print(f\"Generated: ({latitude:.4f}, {longitude:.4f})\")\n",
    "    \n",
    "    if latitude > 50 and longitude > 50:\n",
    "        print(f\"Final coordinate meeting condition: ({latitude:.4f}, {longitude:.4f})\")\n",
    "        break  \n"
   ]
  },
  {
   "cell_type": "markdown",
   "metadata": {},
   "source": [
    "## Submission Requirements\n",
    "\n",
    "Complete the exercises above and and upload the notebook to your GitHub repository. Make sure the notebook has a Colab badge at the top so that it can be easily opened in Google Colab. Submit the URL of the notebook to Canvas."
   ]
  }
 ],
 "metadata": {
  "kernelspec": {
   "display_name": "biodiviz",
   "language": "python",
   "name": "python3"
  },
  "language_info": {
   "codemirror_mode": {
    "name": "ipython",
    "version": 3
   },
   "file_extension": ".py",
   "mimetype": "text/x-python",
   "name": "python",
   "nbconvert_exporter": "python",
   "pygments_lexer": "ipython3",
   "version": "3.12.9"
  }
 },
 "nbformat": 4,
 "nbformat_minor": 4
}
